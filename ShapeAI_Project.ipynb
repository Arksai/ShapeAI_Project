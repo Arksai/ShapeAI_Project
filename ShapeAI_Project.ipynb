{
  "nbformat": 4,
  "nbformat_minor": 0,
  "metadata": {
    "colab": {
      "name": "ShapeAI_Project.ipynb",
      "provenance": [],
      "collapsed_sections": []
    },
    "kernelspec": {
      "name": "python3",
      "display_name": "Python 3"
    },
    "language_info": {
      "name": "python"
    }
  },
  "cells": [
    {
      "cell_type": "code",
      "metadata": {
        "colab": {
          "base_uri": "https://localhost:8080/"
        },
        "id": "1xmCV4Vmab6K",
        "outputId": "9bea7162-8cab-431d-9295-3cc234145079"
      },
      "source": [
        "import requests\n",
        "from datetime import datetime\n",
        "\n",
        "\n",
        "api_key = '39549f88c4a7de245b659ae2e68efefc'\n",
        "location = input(\"Enter the city name: \")\n",
        "\n",
        "complete_api_link = \"https://api.openweathermap.org/data/2.5/weather?q=\"+location+\"&appid=\"+api_key\n",
        "api_link = requests.get(complete_api_link)\n",
        "api_data = api_link.json()\n",
        "\n",
        "#create variables to store and display data\n",
        "temp_city = ((api_data['main']['temp']) - 273.15)\n",
        "weather_desc = api_data['weather'][0]['description']\n",
        "hmdt = api_data['main']['humidity']\n",
        "wind_spd = api_data['wind']['speed']\n",
        "date_time = datetime.now().strftime(\"%d %b %Y | %I:%M:%S %p\")\n",
        "\n",
        "\n",
        "print (\"-------------------------------------------------------------\")\n",
        "print (\"Weather Stats for - {}  || {}\".format(location.upper(), date_time))\n",
        "print (\"-------------------------------------------------------------\")\n",
        "\n",
        "print (\"Current temperature is: {:.2f} deg C\".format(temp_city))\n",
        "print (\"Current weather desc  :\",weather_desc)\n",
        "print (\"Current Humidity      :\",hmdt, '%')\n",
        "print (\"Current wind speed    :\",wind_spd ,'kmph')\n",
        "\n",
        "\n",
        "dr=open('Weather_report.txt','w+')\n",
        "dr.write(\"Weather Stats for - {}  || {}\".format(location.upper(), date_time))\n",
        "\n",
        "dr.write(\"Current temperature is: {:.2f} deg C\\n\".format(temp_city))\n",
        "dr.write(\"Current weather desc :{} \\n\".format(weather_desc))\n",
        "dr.write(\"Current Humidity   :{} %   \\n\".format(hmdt))\n",
        "dr.write(\"Current wind speed :{} 'kmph'  \\n\".format(wind_spd))\n",
        "\n",
        "dr.close()\n",
        "\n",
        "\n",
        "\n",
        "print (\"                                                             \")\n",
        "print (\"-------------------------------------------------------------\")\n",
        "print(\"Your Data is saved successfully in Weather_report.txt\")   \n",
        "print (\"-------------------------------------------------------------\")    "
      ],
      "execution_count": null,
      "outputs": [
        {
          "output_type": "stream",
          "text": [
            "Enter the city name: mysore\n",
            "-------------------------------------------------------------\n",
            "Weather Stats for - MYSORE  || 23 Jun 2021 | 01:46:51 PM\n",
            "-------------------------------------------------------------\n",
            "Current temperature is: 25.67 deg C\n",
            "Current weather desc  : overcast clouds\n",
            "Current Humidity      : 62 %\n",
            "Current wind speed    : 6.43 kmph\n",
            "                                                             \n",
            "-------------------------------------------------------------\n",
            "Your Data is saved successfully in Weather_report.txt\n",
            "-------------------------------------------------------------\n"
          ],
          "name": "stdout"
        }
      ]
    }
  ]
}